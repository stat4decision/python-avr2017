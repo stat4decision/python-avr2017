{
 "cells": [
  {
   "cell_type": "markdown",
   "metadata": {},
   "source": [
    "# Tests d'hypothèses avec python"
   ]
  },
  {
   "cell_type": "code",
   "execution_count": 1,
   "metadata": {
    "collapsed": false
   },
   "outputs": [],
   "source": [
    "import numpy as np\n",
    "from scipy.stats import ttest_1samp, wilcoxon, ttest_ind, mannwhitneyu\n",
    "import matplotlib.pyplot as plt\n",
    "%matplotlib inline"
   ]
  },
  {
   "cell_type": "markdown",
   "metadata": {},
   "source": [
    "On importe les données"
   ]
  },
  {
   "cell_type": "code",
   "execution_count": 2,
   "metadata": {
    "collapsed": false
   },
   "outputs": [],
   "source": [
    "from numpy import genfromtxt\n",
    "fer = genfromtxt('fer.csv', delimiter=';')"
   ]
  },
  {
   "cell_type": "markdown",
   "metadata": {},
   "source": [
    "### test t pour un échantillon"
   ]
  },
  {
   "cell_type": "code",
   "execution_count": 3,
   "metadata": {
    "collapsed": false
   },
   "outputs": [
    {
     "name": "stdout",
     "output_type": "stream",
     "text": [
      "test t pour un échantillon 8.27693174181e-53\n"
     ]
    }
   ],
   "source": [
    "t_statistic, p_value = ttest_1samp(fer[:,1],22)\n",
    "\n",
    "print(\"test t pour un échantillon\", p_value)"
   ]
  },
  {
   "cell_type": "markdown",
   "metadata": {},
   "source": [
    "### test de Wilcoxon pour un échantillon"
   ]
  },
  {
   "cell_type": "code",
   "execution_count": 4,
   "metadata": {
    "collapsed": false
   },
   "outputs": [
    {
     "name": "stdout",
     "output_type": "stream",
     "text": [
      "test de Wilcoxon pour un échantillon 5.25211498557e-24\n"
     ]
    }
   ],
   "source": [
    "z_statistic, p_value = wilcoxon(fer[:,1] - 22)\n",
    "\n",
    "print(\"test de Wilcoxon pour un échantillon\", p_value)"
   ]
  },
  {
   "cell_type": "code",
   "execution_count": 5,
   "metadata": {
    "collapsed": false
   },
   "outputs": [
    {
     "data": {
      "text/plain": [
       "(array([  3.,   1.,   5.,   3.,   4.,   9.,   8.,  16.,   9.,   9.,  13.,\n",
       "         18.,   9.,  12.,   4.,   3.,   0.,   3.,   5.,   2.]),\n",
       " array([ 20.99645319,  22.5593193 ,  24.12218541,  25.68505152,\n",
       "         27.24791763,  28.81078374,  30.37364985,  31.93651596,\n",
       "         33.49938207,  35.06224818,  36.62511429,  38.1879804 ,\n",
       "         39.75084651,  41.31371262,  42.87657873,  44.43944485,\n",
       "         46.00231096,  47.56517707,  49.12804318,  50.69090929,  52.2537754 ]),\n",
       " <a list of 20 Patch objects>)"
      ]
     },
     "execution_count": 5,
     "metadata": {},
     "output_type": "execute_result"
    },
    {
     "data": {
      "image/png": "[encoded data removed]",
      "text/plain": [
       "<matplotlib.figure.Figure at 0x20bf83d4780>"
      ]
     },
     "metadata": {},
     "output_type": "display_data"
    }
   ],
   "source": [
    "plt.hist(fer[:,1], bins=20, alpha=0.5)"
   ]
  },
  {
   "cell_type": "markdown",
   "metadata": {},
   "source": [
    "### test t pour 2 échantillons"
   ]
  },
  {
   "cell_type": "code",
   "execution_count": 6,
   "metadata": {
    "collapsed": false
   },
   "outputs": [],
   "source": [
    "#regroupement des groupes H/F\n",
    "group1 = fer[:, 0] == 1\n",
    "group1 = fer[group1][:,1]\n",
    "group2 = fer[:, 0] == 2\n",
    "group2 = fer[group2][:, 1]"
   ]
  },
  {
   "cell_type": "code",
   "execution_count": 7,
   "metadata": {
    "collapsed": false
   },
   "outputs": [
    {
     "name": "stdout",
     "output_type": "stream",
     "text": [
      "test t 2 echantillon 0.0336390291778\n"
     ]
    }
   ],
   "source": [
    "#test t 2 echantillon\n",
    "t_statistic, p_value = ttest_ind(group1, group2)\n",
    "\n",
    "print(\"test t 2 echantillon\", p_value)"
   ]
  },
  {
   "cell_type": "code",
   "execution_count": 8,
   "metadata": {
    "collapsed": false
   },
   "outputs": [
    {
     "data": {
      "text/plain": [
       "<matplotlib.legend.Legend at 0x20bf81b9b70>"
      ]
     },
     "execution_count": 8,
     "metadata": {},
     "output_type": "execute_result"
    },
    {
     "data": {
      "image/png": "[encoded data removed]",
      "text/plain": [
       "<matplotlib.figure.Figure at 0x20bf81b9cc0>"
      ]
     },
     "metadata": {},
     "output_type": "display_data"
    }
   ],
   "source": [
    "plt.hist(group1, bins=20, alpha=0.5, label='H')\n",
    "plt.hist(group2, bins=20, alpha=0.5, label='F')\n",
    "plt.legend(loc='upper right')"
   ]
  },
  {
   "cell_type": "markdown",
   "metadata": {},
   "source": [
    "### test de Mann-Whitney"
   ]
  },
  {
   "cell_type": "code",
   "execution_count": 9,
   "metadata": {
    "collapsed": false,
    "scrolled": true
   },
   "outputs": [
    {
     "name": "stdout",
     "output_type": "stream",
     "text": [
      "test de Mann-Whitney 0.032319202459\n"
     ]
    }
   ],
   "source": [
    "u, p_value = mannwhitneyu(group1, group2)\n",
    "print(\"test de Mann-Whitney\", p_value)"
   ]
  }
 ],
 "metadata": {
  "kernelspec": {
   "display_name": "Python 3",
   "language": "python",
   "name": "python3"
  },
  "language_info": {
   "codemirror_mode": {
    "name": "ipython",
    "version": 3
   },
   "file_extension": ".py",
   "mimetype": "text/x-python",
   "name": "python",
   "nbconvert_exporter": "python",
   "pygments_lexer": "ipython3",
   "version": "3.6.0"
  }
 },
 "nbformat": 4,
 "nbformat_minor": 0
}
